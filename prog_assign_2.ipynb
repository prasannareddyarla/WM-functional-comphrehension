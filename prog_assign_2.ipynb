{
 "cells": [
  {
   "cell_type": "raw",
   "metadata": {},
   "source": [
    "# Web Mining Programming Assignment 2\n",
    "\n",
    "## Python: Data Structures, Functions, and Functional Programming\n",
    "\n",
    "## Student Name:\n",
    "\n",
    "In this assignment you will be writing several small snippets of Python to solve individual problems. Unless otherwise specified, you should put your work in the integrated Code cells in this document.  Put your name at the top of this Notebook.\n",
    "\n",
    "1. Create a list with at least 15 elements in it. Use list slicing to print the following:\n",
    "  1. The first 5 elements of the list\n",
    "  2. The last 5 elements of the list\n",
    "  3. The list reversed (hint, show the entire list with a stride of -1)\n",
    "  4. Every second element in the list\n",
    "  5. Every third element in the list (stride of 3)"
   ]
  },
  {
   "cell_type": "code",
   "execution_count": 9,
   "metadata": {},
   "outputs": [
    {
     "name": "stdout",
     "output_type": "stream",
     "text": [
      "[1, 5, 8, 78, 67]\n",
      "[81, 99, 21, 37, 55]\n",
      "[55, 37, 21, 99, 81, 72, 40, 23, 34, 56, 67, 78, 8, 5, 1]\n",
      "[5, 78, 56, 23, 72, 99, 37]\n",
      "[8, 56, 40, 99, 55]\n"
     ]
    }
   ],
   "source": [
    "list = [1,5,8,78,67,56,34,23,40,72,81,99,21,37,55]\n",
    "print(list[:5])\n",
    "print(list[-5:])\n",
    "print(list[::-1])\n",
    "print(list[1:15:2])\n",
    "print(list[2:15:3])"
   ]
  },
  {
   "cell_type": "markdown",
   "metadata": {},
   "source": [
    "2. Write a function named `mean` that returns the mean (average) of the elements in the list (hint: use the `sum` built in function)"
   ]
  },
  {
   "cell_type": "code",
   "execution_count": 10,
   "metadata": {},
   "outputs": [
    {
     "data": {
      "text/plain": [
       "9.25"
      ]
     },
     "execution_count": 10,
     "metadata": {},
     "output_type": "execute_result"
    }
   ],
   "source": [
    "def mean(list):\n",
    "    total = sum(list)\n",
    "    mean = total/len(list)\n",
    "    return mean\n",
    "mean([8,1,5,23])"
   ]
  },
  {
   "cell_type": "markdown",
   "metadata": {},
   "source": [
    "3. Using your `mean` function above, write a function that calculates the variance of the list of numbers (see https://en.wikipedia.org/wiki/Variance for more information on the formula).  In short:\n",
    "\n",
    "  * subtract the mean of the elements in the list from every element in the list; store these values in a new list\n",
    "  * square every element in the new list and sum the elements together\n",
    "  * divide the resulting number by N (where N is the length of the original list)\n",
    "\n",
    "Show the result of calling your function in the lists in the code cell\n",
    "Try to use one or more list comprehensions or map/filter in your code."
   ]
  },
  {
   "cell_type": "code",
   "execution_count": 11,
   "metadata": {},
   "outputs": [
    {
     "name": "stdout",
     "output_type": "stream",
     "text": [
      "1.13973309\n"
     ]
    }
   ],
   "source": [
    "#list1 = [ 5.670e-1, -1.480e+0, -5.570e-1, -1.470e+0, 7.340e-1, 1.050e+0, 4.480e-1, 2.570e-1, -1.970e+0, -1.460e+0]\n",
    "#list2 = [-1.780e+0, 2.640e-1, 1.160e+0, 9.080e-1, 1.780e+0, 1.080e+0, 1.050e+0, -4.630e-2, 1.520e+0, 5.350e-1]\n",
    "# the variances of both lists should be relatively close to 1 (off by less than .15)\n",
    "def variance(list):\n",
    "    total = sum(list)\n",
    "    mean = total/len(list)\n",
    "    new_list = []\n",
    "    for item in list:\n",
    "        new = item-mean\n",
    "        \n",
    "        new_list.append(new**2)\n",
    "    \n",
    "    result = sum(new_list)\n",
    "    variance = result/len(new_list)\n",
    "    print(variance)\n",
    "variance([5.670e-1, -1.480e+0, -5.570e-1, -1.470e+0, 7.340e-1, 1.050e+0, 4.480e-1, 2.570e-1, -1.970e+0, -1.460e+0])\n"
   ]
  },
  {
   "cell_type": "markdown",
   "metadata": {},
   "source": [
    "4. Bonus (1 point): retry problem 3; if you used a list comprehension, use map/filter, and if you used map/filter, use a list comprehension.  If you used neither, choose one (or both) to use. If you used both in problem 3, you get the bonus point."
   ]
  },
  {
   "cell_type": "code",
   "execution_count": null,
   "metadata": {},
   "outputs": [],
   "source": []
  },
  {
   "cell_type": "markdown",
   "metadata": {},
   "source": [
    "5. Use a filter (and list) with the print function to show the following:\n",
    "\n",
    "  * All values of the list that are even\n",
    "  * All values of the list that are less than 20\n",
    "  * All values of the list that are greater than 100\n",
    "  "
   ]
  },
  {
   "cell_type": "code",
   "execution_count": 12,
   "metadata": {},
   "outputs": [
    {
     "name": "stdout",
     "output_type": "stream",
     "text": [
      "[8, 78, 56, 34, 40, 72] [78, 67, 56, 34, 23, 40, 72, 81, 99, 21, 37, 55] []\n"
     ]
    }
   ],
   "source": [
    "p = []\n",
    "q = []\n",
    "r = []\n",
    "for i in list:\n",
    "    if i%2 == 0:\n",
    "        p = p + [i]\n",
    "    if i>20:\n",
    "        q = q + [i]\n",
    "    if i>100:\n",
    "        r = r + [i]\n",
    "print(p,q,r)\n"
   ]
  }
 ],
 "metadata": {
  "kernelspec": {
   "display_name": "Python 3 (ipykernel)",
   "language": "python",
   "name": "python3"
  },
  "language_info": {
   "codemirror_mode": {
    "name": "ipython",
    "version": 3
   },
   "file_extension": ".py",
   "mimetype": "text/x-python",
   "name": "python",
   "nbconvert_exporter": "python",
   "pygments_lexer": "ipython3",
   "version": "3.9.7"
  }
 },
 "nbformat": 4,
 "nbformat_minor": 4
}
